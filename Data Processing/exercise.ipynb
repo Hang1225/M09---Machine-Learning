{
 "cells": [
  {
   "cell_type": "markdown",
   "id": "dd06b08b",
   "metadata": {},
   "source": [
    "# Import data"
   ]
  },
  {
   "cell_type": "code",
   "execution_count": null,
   "id": "cb7dd2a6",
   "metadata": {},
   "outputs": [],
   "source": [
    "import pandas as pd\n",
    "from sklearn.impute import SimpleImputer\n",
    "import numpy as np\n",
    "\n",
    "data = pd.read_csv('ml-03-data-processing-songs-dataset.csv')"
   ]
  },
  {
   "cell_type": "markdown",
   "id": "ef2e1fa2",
   "metadata": {
    "tags": []
   },
   "source": [
    "# Drop missing values"
   ]
  },
  {
   "cell_type": "code",
   "execution_count": null,
   "id": "3fe891e5",
   "metadata": {},
   "outputs": [],
   "source": [
    "# Drop columns\n",
    "for x,y in enumerate(data.isna().sum()): #identify missing values in each column\n",
    "    if y > data.shape[0]/2: #if missing value > 50% of rows\n",
    "        data.drop(data.columns[x],axis=1,inplace=True)\n",
    "        print(f'Successfully dropped column: {data.columns[x]}, with {y} null values')\n",
    "\n",
    "# Drop rows\n",
    "Index_rows_missing = data[data.isna().sum(axis=1)>= data.shape[1]/2].index # index of rows with missing values > 50%\n",
    "if Index_rows_missing.size > 0:\n",
    "    print(f'Successfully dropped {len(Index_rows_missing)} rows.')\n",
    "    data.drop(Index_rows_missing,axis=0,inplace=True)"
   ]
  },
  {
   "cell_type": "markdown",
   "id": "1dd93dca",
   "metadata": {
    "tags": []
   },
   "source": [
    "# Impute Missing Values"
   ]
  },
  {
   "cell_type": "code",
   "execution_count": null,
   "id": "2c91222c",
   "metadata": {},
   "outputs": [],
   "source": [
    "#isolate columns by datatype\n",
    "columns_numeric = data.select_dtypes(include=np.number)\n",
    "columns_categorical = data.select_dtypes(include=['object'])\n",
    "\n",
    "#fit using sklearn\n",
    "imputer = SimpleImputer(strategy='mean').fit_transform(columns_numeric)\n",
    "transformed_numeric = pd.DataFrame(imputer) #convert transformed data into pd.dataframe type\n",
    "\n",
    "imputer = SimpleImputer(strategy='most_frequent').fit_transform(columns_categorical)\n",
    "transformed_categorical = pd.DataFrame(imputer)\n",
    "\n",
    "#rename column names\n",
    "transformed_numeric.columns = columns_numeric.columns\n",
    "transformed_categorical.columns = columns_categorical.columns\n",
    "\n",
    "#reassemble into dataframe\n",
    "data_new = pd.concat([transformed_numeric,transformed_categorical],axis=1)\n"
   ]
  },
  {
   "cell_type": "markdown",
   "id": "58114202",
   "metadata": {
    "tags": []
   },
   "source": [
    "# Identifying outliers"
   ]
  },
  {
   "cell_type": "code",
   "execution_count": null,
   "id": "6651266c",
   "metadata": {
    "scrolled": true
   },
   "outputs": [],
   "source": [
    "#Identifying outliers 3 standard deviations away\n",
    "means = data.describe().loc['mean']\n",
    "bounds = data.describe().loc['std']*3\n",
    "columns = data.describe().columns\n",
    "outliers = []\n",
    "for i in range(len(means)):\n",
    "    upperbound = means[i] + bounds[i]\n",
    "    lowerbound = means[i] - bounds[i]\n",
    "    outliers = list(filter(lambda x: x > upperbound or x < lowerbound,data_new[columns[i]]))\n",
    "    outliers.sort()\n",
    "    if len(outliers) > 0: # if outlier exists\n",
    "        print(f'{columns[i]} - (Outliers: {len(outliers)}|{round(len(outliers)/len(data_new)*100,2)}%)')\n",
    "        print(f'\\tList: {outliers}')\n",
    "        print()"
   ]
  },
  {
   "cell_type": "code",
   "execution_count": null,
   "id": "36475d9a-d7b0-4abd-87c8-cf8c5a2352b1",
   "metadata": {},
   "outputs": [],
   "source": [
    "data_new[columns[0]].sort_values(ascending=False)"
   ]
  },
  {
   "cell_type": "markdown",
   "id": "bd460db1",
   "metadata": {},
   "source": [
    "# Date modification"
   ]
  },
  {
   "cell_type": "code",
   "execution_count": null,
   "id": "25576018",
   "metadata": {},
   "outputs": [],
   "source": [
    "from datetime import datetime,date\n",
    "# Convert Month (String) to Numeric\n",
    "try:\n",
    "    data_new['Month'] = data_new['Month'].apply(lambda x: str(datetime.strptime(x,'%b').month) if not x.isnumeric() else x)\n",
    "except:\n",
    "    print('Error when converting')\n",
    "    \n",
    "# Handle incorrect values in Year column\n",
    "for index in data_new[data_new.Year < 1000].Year.index:\n",
    "    data_new['Year'].at[index] = 1992\n",
    "\n",
    "data_new['Year'] = data_new['Year'].astype(int) # convert to int, remove decimals"
   ]
  },
  {
   "cell_type": "markdown",
   "id": "a700e625",
   "metadata": {},
   "source": [
    "# Convert Date to Datetime (new column)"
   ]
  },
  {
   "cell_type": "code",
   "execution_count": null,
   "id": "ca5ed87c",
   "metadata": {},
   "outputs": [],
   "source": [
    "age = []\n",
    "data_new['day']= '01' #create a day column for passing value.\n",
    "_date = pd.concat([data_new['Year'],data_new['Month'],data_new['day']],axis=1)\n",
    "\n",
    "column_date = pd.to_datetime(_date,format='%m/%Y/%d') #convert to date format\n",
    "for x in column_date.iteritems():\n",
    "    age.append(date.today().year - x[1].year)\n",
    "\n",
    "data_new['Age'] = age # Assign new column: age\n"
   ]
  },
  {
   "cell_type": "code",
   "execution_count": null,
   "id": "6df47690",
   "metadata": {},
   "outputs": [],
   "source": [
    "# Delete other date format columns\n",
    "data_new.drop(['Year','Month','day'],axis=1,inplace=True)\n",
    "data_new"
   ]
  },
  {
   "cell_type": "markdown",
   "id": "e7bd66f1",
   "metadata": {},
   "source": [
    "# Create Dummy variables for categorical variables"
   ]
  },
  {
   "cell_type": "code",
   "execution_count": null,
   "id": "b02f8192",
   "metadata": {},
   "outputs": [],
   "source": [
    "pd.get_dummies(data.select_dtypes(include='object'),drop_first=True)"
   ]
  }
 ],
 "metadata": {
  "kernelspec": {
   "display_name": "Python 3 (ipykernel)",
   "language": "python",
   "name": "python3"
  },
  "language_info": {
   "codemirror_mode": {
    "name": "ipython",
    "version": 3
   },
   "file_extension": ".py",
   "mimetype": "text/x-python",
   "name": "python",
   "nbconvert_exporter": "python",
   "pygments_lexer": "ipython3",
   "version": "3.9.7"
  }
 },
 "nbformat": 4,
 "nbformat_minor": 5
}

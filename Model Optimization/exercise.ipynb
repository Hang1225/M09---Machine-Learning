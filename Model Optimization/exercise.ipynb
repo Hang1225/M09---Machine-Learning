{
 "cells": [
  {
   "cell_type": "code",
   "execution_count": 66,
   "id": "212110c9",
   "metadata": {},
   "outputs": [],
   "source": [
    "import pandas as pd\n",
    "\n",
    "data = pd.read_csv('LASSO-data-set.csv')\n",
    "\n",
    "# separate independent and dependent variables\n",
    "y = data['score']\n",
    "x = data.drop('score',axis=1)"
   ]
  },
  {
   "cell_type": "code",
   "execution_count": 69,
   "id": "f15cdf1d",
   "metadata": {},
   "outputs": [
    {
     "data": {
      "text/html": [
       "<div>\n",
       "<style scoped>\n",
       "    .dataframe tbody tr th:only-of-type {\n",
       "        vertical-align: middle;\n",
       "    }\n",
       "\n",
       "    .dataframe tbody tr th {\n",
       "        vertical-align: top;\n",
       "    }\n",
       "\n",
       "    .dataframe thead th {\n",
       "        text-align: right;\n",
       "    }\n",
       "</style>\n",
       "<table border=\"1\" class=\"dataframe\">\n",
       "  <thead>\n",
       "    <tr style=\"text-align: right;\">\n",
       "      <th></th>\n",
       "      <th>strength</th>\n",
       "      <th>dexterity</th>\n",
       "      <th>constitution</th>\n",
       "      <th>wisdom</th>\n",
       "      <th>intelligence</th>\n",
       "      <th>charisma</th>\n",
       "      <th>weight</th>\n",
       "      <th>height</th>\n",
       "      <th>modifier1</th>\n",
       "      <th>modifier2</th>\n",
       "      <th>modifier3</th>\n",
       "      <th>modifier4</th>\n",
       "      <th>modifier5</th>\n",
       "      <th>modifier6</th>\n",
       "      <th>modifier7</th>\n",
       "      <th>modifier8</th>\n",
       "    </tr>\n",
       "  </thead>\n",
       "  <tbody>\n",
       "    <tr>\n",
       "      <th>0</th>\n",
       "      <td>156</td>\n",
       "      <td>181</td>\n",
       "      <td>54</td>\n",
       "      <td>61</td>\n",
       "      <td>159</td>\n",
       "      <td>60</td>\n",
       "      <td>170</td>\n",
       "      <td>58</td>\n",
       "      <td>56</td>\n",
       "      <td>60</td>\n",
       "      <td>56</td>\n",
       "      <td>60</td>\n",
       "      <td>6</td>\n",
       "      <td>4</td>\n",
       "      <td>4</td>\n",
       "      <td>4</td>\n",
       "    </tr>\n",
       "    <tr>\n",
       "      <th>1</th>\n",
       "      <td>148</td>\n",
       "      <td>137</td>\n",
       "      <td>89</td>\n",
       "      <td>147</td>\n",
       "      <td>159</td>\n",
       "      <td>79</td>\n",
       "      <td>166</td>\n",
       "      <td>84</td>\n",
       "      <td>47</td>\n",
       "      <td>44</td>\n",
       "      <td>53</td>\n",
       "      <td>49</td>\n",
       "      <td>11</td>\n",
       "      <td>10</td>\n",
       "      <td>5</td>\n",
       "      <td>8</td>\n",
       "    </tr>\n",
       "    <tr>\n",
       "      <th>2</th>\n",
       "      <td>164</td>\n",
       "      <td>144</td>\n",
       "      <td>79</td>\n",
       "      <td>143</td>\n",
       "      <td>164</td>\n",
       "      <td>84</td>\n",
       "      <td>175</td>\n",
       "      <td>80</td>\n",
       "      <td>51</td>\n",
       "      <td>56</td>\n",
       "      <td>53</td>\n",
       "      <td>56</td>\n",
       "      <td>7</td>\n",
       "      <td>13</td>\n",
       "      <td>12</td>\n",
       "      <td>8</td>\n",
       "    </tr>\n",
       "    <tr>\n",
       "      <th>3</th>\n",
       "      <td>176</td>\n",
       "      <td>53</td>\n",
       "      <td>84</td>\n",
       "      <td>178</td>\n",
       "      <td>198</td>\n",
       "      <td>85</td>\n",
       "      <td>180</td>\n",
       "      <td>88</td>\n",
       "      <td>37</td>\n",
       "      <td>38</td>\n",
       "      <td>40</td>\n",
       "      <td>36</td>\n",
       "      <td>5</td>\n",
       "      <td>5</td>\n",
       "      <td>0</td>\n",
       "      <td>5</td>\n",
       "    </tr>\n",
       "    <tr>\n",
       "      <th>4</th>\n",
       "      <td>164</td>\n",
       "      <td>86</td>\n",
       "      <td>86</td>\n",
       "      <td>75</td>\n",
       "      <td>185</td>\n",
       "      <td>93</td>\n",
       "      <td>180</td>\n",
       "      <td>89</td>\n",
       "      <td>45</td>\n",
       "      <td>47</td>\n",
       "      <td>46</td>\n",
       "      <td>48</td>\n",
       "      <td>-1</td>\n",
       "      <td>2</td>\n",
       "      <td>-1</td>\n",
       "      <td>3</td>\n",
       "    </tr>\n",
       "    <tr>\n",
       "      <th>...</th>\n",
       "      <td>...</td>\n",
       "      <td>...</td>\n",
       "      <td>...</td>\n",
       "      <td>...</td>\n",
       "      <td>...</td>\n",
       "      <td>...</td>\n",
       "      <td>...</td>\n",
       "      <td>...</td>\n",
       "      <td>...</td>\n",
       "      <td>...</td>\n",
       "      <td>...</td>\n",
       "      <td>...</td>\n",
       "      <td>...</td>\n",
       "      <td>...</td>\n",
       "      <td>...</td>\n",
       "      <td>...</td>\n",
       "    </tr>\n",
       "    <tr>\n",
       "      <th>995</th>\n",
       "      <td>147</td>\n",
       "      <td>136</td>\n",
       "      <td>71</td>\n",
       "      <td>183</td>\n",
       "      <td>178</td>\n",
       "      <td>74</td>\n",
       "      <td>164</td>\n",
       "      <td>73</td>\n",
       "      <td>49</td>\n",
       "      <td>54</td>\n",
       "      <td>49</td>\n",
       "      <td>53</td>\n",
       "      <td>13</td>\n",
       "      <td>15</td>\n",
       "      <td>9</td>\n",
       "      <td>10</td>\n",
       "    </tr>\n",
       "    <tr>\n",
       "      <th>996</th>\n",
       "      <td>180</td>\n",
       "      <td>155</td>\n",
       "      <td>67</td>\n",
       "      <td>162</td>\n",
       "      <td>163</td>\n",
       "      <td>67</td>\n",
       "      <td>173</td>\n",
       "      <td>62</td>\n",
       "      <td>27</td>\n",
       "      <td>22</td>\n",
       "      <td>28</td>\n",
       "      <td>23</td>\n",
       "      <td>5</td>\n",
       "      <td>2</td>\n",
       "      <td>9</td>\n",
       "      <td>7</td>\n",
       "    </tr>\n",
       "    <tr>\n",
       "      <th>997</th>\n",
       "      <td>191</td>\n",
       "      <td>119</td>\n",
       "      <td>68</td>\n",
       "      <td>193</td>\n",
       "      <td>192</td>\n",
       "      <td>65</td>\n",
       "      <td>173</td>\n",
       "      <td>67</td>\n",
       "      <td>42</td>\n",
       "      <td>33</td>\n",
       "      <td>36</td>\n",
       "      <td>38</td>\n",
       "      <td>9</td>\n",
       "      <td>10</td>\n",
       "      <td>8</td>\n",
       "      <td>5</td>\n",
       "    </tr>\n",
       "    <tr>\n",
       "      <th>998</th>\n",
       "      <td>160</td>\n",
       "      <td>167</td>\n",
       "      <td>70</td>\n",
       "      <td>92</td>\n",
       "      <td>162</td>\n",
       "      <td>69</td>\n",
       "      <td>175</td>\n",
       "      <td>72</td>\n",
       "      <td>58</td>\n",
       "      <td>64</td>\n",
       "      <td>64</td>\n",
       "      <td>63</td>\n",
       "      <td>1</td>\n",
       "      <td>-1</td>\n",
       "      <td>-1</td>\n",
       "      <td>1</td>\n",
       "    </tr>\n",
       "    <tr>\n",
       "      <th>999</th>\n",
       "      <td>193</td>\n",
       "      <td>91</td>\n",
       "      <td>63</td>\n",
       "      <td>179</td>\n",
       "      <td>191</td>\n",
       "      <td>67</td>\n",
       "      <td>177</td>\n",
       "      <td>68</td>\n",
       "      <td>61</td>\n",
       "      <td>68</td>\n",
       "      <td>64</td>\n",
       "      <td>63</td>\n",
       "      <td>3</td>\n",
       "      <td>12</td>\n",
       "      <td>3</td>\n",
       "      <td>7</td>\n",
       "    </tr>\n",
       "  </tbody>\n",
       "</table>\n",
       "<p>1000 rows × 16 columns</p>\n",
       "</div>"
      ],
      "text/plain": [
       "     strength  dexterity  constitution  wisdom  intelligence  charisma  \\\n",
       "0         156        181            54      61           159        60   \n",
       "1         148        137            89     147           159        79   \n",
       "2         164        144            79     143           164        84   \n",
       "3         176         53            84     178           198        85   \n",
       "4         164         86            86      75           185        93   \n",
       "..        ...        ...           ...     ...           ...       ...   \n",
       "995       147        136            71     183           178        74   \n",
       "996       180        155            67     162           163        67   \n",
       "997       191        119            68     193           192        65   \n",
       "998       160        167            70      92           162        69   \n",
       "999       193         91            63     179           191        67   \n",
       "\n",
       "     weight  height  modifier1  modifier2  modifier3  modifier4  modifier5  \\\n",
       "0       170      58         56         60         56         60          6   \n",
       "1       166      84         47         44         53         49         11   \n",
       "2       175      80         51         56         53         56          7   \n",
       "3       180      88         37         38         40         36          5   \n",
       "4       180      89         45         47         46         48         -1   \n",
       "..      ...     ...        ...        ...        ...        ...        ...   \n",
       "995     164      73         49         54         49         53         13   \n",
       "996     173      62         27         22         28         23          5   \n",
       "997     173      67         42         33         36         38          9   \n",
       "998     175      72         58         64         64         63          1   \n",
       "999     177      68         61         68         64         63          3   \n",
       "\n",
       "     modifier6  modifier7  modifier8  \n",
       "0            4          4          4  \n",
       "1           10          5          8  \n",
       "2           13         12          8  \n",
       "3            5          0          5  \n",
       "4            2         -1          3  \n",
       "..         ...        ...        ...  \n",
       "995         15          9         10  \n",
       "996          2          9          7  \n",
       "997         10          8          5  \n",
       "998         -1         -1          1  \n",
       "999         12          3          7  \n",
       "\n",
       "[1000 rows x 16 columns]"
      ]
     },
     "execution_count": 69,
     "metadata": {},
     "output_type": "execute_result"
    }
   ],
   "source": [
    "x"
   ]
  },
  {
   "cell_type": "markdown",
   "id": "2e95f6da",
   "metadata": {},
   "source": [
    "# Split training and test dataset"
   ]
  },
  {
   "cell_type": "code",
   "execution_count": 6,
   "id": "194ff969",
   "metadata": {},
   "outputs": [],
   "source": [
    "import sklearn.model_selection\n",
    "\n",
    "X_train, X_test, y_train, y_test = sklearn.model_selection.train_test_split(x,y,test_size=0.25,train_size=0.75,random_state=0)"
   ]
  },
  {
   "cell_type": "markdown",
   "id": "95b14a0e",
   "metadata": {},
   "source": [
    "# ML using Linear Regression"
   ]
  },
  {
   "cell_type": "code",
   "execution_count": 8,
   "id": "c7882dc6",
   "metadata": {},
   "outputs": [],
   "source": [
    "from sklearn import linear_model\n",
    "\n",
    "#linear regression\n",
    "reg = sklearn.linear_model.LinearRegression()\n",
    "reg.fit(X_train,y_train)\n",
    "y_predicted = reg.predict(X_test)"
   ]
  },
  {
   "cell_type": "markdown",
   "id": "69d8567e",
   "metadata": {},
   "source": [
    "### Plot"
   ]
  },
  {
   "cell_type": "code",
   "execution_count": 62,
   "id": "db0c30f3",
   "metadata": {},
   "outputs": [
    {
     "data": {
      "image/png": "[encoded data removed]",
      "text/plain": [
       "<Figure size 1080x288 with 2 Axes>"
      ]
     },
     "metadata": {
      "needs_background": "light"
     },
     "output_type": "display_data"
    }
   ],
   "source": [
    "import matplotlib.pyplot as plt\n",
    "\n",
    "fig, ax = plt.subplots(ncols=2,figsize=(15,4))\n",
    "ax[0].scatter(x=y_test,y=y_predicted)\n",
    "ax[0].set_title('Predicted vs. Actual')\n",
    "ax[0].set_xlabel('Actual Score')\n",
    "ax[0].set_ylabel('Predicted Score')\n",
    "ax[0].text(0,0,f'$R^2$ = {reg.score(X_test,y_test)}') # print out R^2 values\n",
    "\n",
    "#plot residual\n",
    "residual = list(map(lambda x,y: x-y,y_test,y_predicted))\n",
    "ax[1].scatter(x=y_predicted,y=residual)\n",
    "ax[1].set_title('Residual vs. Predicted')\n",
    "ax[1].set_xlabel('Predicted Score')\n",
    "ax[1].set_ylabel('Residual of Score')\n",
    "\n",
    "plt.show()"
   ]
  },
  {
   "cell_type": "markdown",
   "id": "b3a60952",
   "metadata": {},
   "source": [
    "### output equation"
   ]
  },
  {
   "cell_type": "code",
   "execution_count": 77,
   "id": "a323d7d3",
   "metadata": {},
   "outputs": [
    {
     "name": "stdout",
     "output_type": "stream",
     "text": [
      "y = -69.42199849114922 + (-0.004633604660787425 * strength) + (-0.0012989146247277539 * dexterity) + (0.0063068663253391475 * constitution) + (7.444041052084849e-05 * wisdom) + (0.0001665086595636911 * intelligence) + (0.00017183156493118246 * charisma) + (4.007954023146736 * weight) + (-5.011237571447863 * height) + (-0.012349690809661008 * modifier1) + (-0.0019706370923074368 * modifier2) + (0.00961775544117141 * modifier3) + (6.008969185355354 * modifier4) + (0.009343548558156639 * modifier5) + (-0.006322941009431751 * modifier6) + (0.02380408658054399 * modifier7) + (-7.0077114752117655 * modifier8)\n"
     ]
    }
   ],
   "source": [
    "eq = []\n",
    "count = 0\n",
    "for i in range(len(reg.coef_)):   \n",
    "    if reg.coef_[i] != 0:\n",
    "        eq.append(f'({reg.coef_[i]} * {data.columns[i]})')\n",
    "        \n",
    "print(f'y = {reg.intercept_} + {\" + \".join(eq)}')"
   ]
  },
  {
   "cell_type": "markdown",
   "id": "c2c857aa",
   "metadata": {},
   "source": [
    "# ML using LASSO"
   ]
  },
  {
   "cell_type": "code",
   "execution_count": 47,
   "id": "3d4826fa",
   "metadata": {},
   "outputs": [
    {
     "data": {
      "image/png": "[encoded data removed]",
      "text/plain": [
       "<Figure size 1080x288 with 2 Axes>"
      ]
     },
     "metadata": {
      "needs_background": "light"
     },
     "output_type": "display_data"
    }
   ],
   "source": [
    "lasso = sklearn.linear_model.LassoCV(cv=5,random_state=0)\n",
    "lasso.fit(X_train,y_train)\n",
    "y_lasso_predicted = lasso.predict(X_test)\n",
    "\n",
    "#plotting\n",
    "fig2, ax2 = plt.subplots(ncols=2,figsize=(15,4))\n",
    "ax2[0].scatter(x=y_test,y=y_lasso_predicted)\n",
    "ax2[0].set_title('Predicted vs. Actual')\n",
    "ax2[0].set_xlabel('Actual Score')\n",
    "ax2[0].set_ylabel('Predicted Score')\n",
    "ax2[0].text(0,0,f'$R^2$ = {lasso.score(X_test,y_test)}') # print out R^2 values\n",
    "\n",
    "#plot residual\n",
    "residual = list(map(lambda x,y: x-y,y_test,y_lasso_predicted))\n",
    "ax2[1].scatter(x=y_lasso_predicted,y=residual)\n",
    "ax2[1].set_title('Residual vs. Predicted')\n",
    "ax2[1].set_xlabel('Predicted Score')\n",
    "ax2[1].set_ylabel('Residual of Score')\n",
    "\n",
    "plt.show()"
   ]
  },
  {
   "cell_type": "markdown",
   "id": "e12ed74d",
   "metadata": {},
   "source": [
    "### output equation"
   ]
  },
  {
   "cell_type": "code",
   "execution_count": 76,
   "id": "709fb403",
   "metadata": {},
   "outputs": [
    {
     "name": "stdout",
     "output_type": "stream",
     "text": [
      "y = -66.22924695707854 + (-0.0006721759765476092 * dexterity) + (-0.005375135067366434 * charisma) + (3.9795950474309683 * weight) + (-4.992722064393375 * height) + (0.019874646969769025 * modifier3) + (5.977641964349887 * modifier4) + (-0.006061428168212675 * modifier6) + (-6.868311570279579 * modifier8)\n",
      "\n",
      "alpha: 1.0749236577654113\n"
     ]
    }
   ],
   "source": [
    "eq = []\n",
    "count = 0\n",
    "for i in range(len(lasso.coef_)):   \n",
    "    if lasso.coef_[i] != 0:\n",
    "        eq.append(f'({lasso.coef_[i]} * {data.columns[i]})')\n",
    "        \n",
    "print(f'y = {lasso.intercept_} + {\" + \".join(eq)}')\n",
    "print(f'\\nalpha: {lasso.alpha_}')"
   ]
  },
  {
   "cell_type": "markdown",
   "id": "0987026d",
   "metadata": {},
   "source": [
    "# Differences between two models"
   ]
  },
  {
   "cell_type": "markdown",
   "id": "b132045c",
   "metadata": {},
   "source": [
    "Lasso uses only 8 variables whereas LR uses 16.\n",
    "LR has a slightly higher R^2 value, very slightly.\n",
    "The Y-intercept for both methods are different."
   ]
  }
 ],
 "metadata": {
  "kernelspec": {
   "display_name": "Python 3 (ipykernel)",
   "language": "python",
   "name": "python3"
  },
  "language_info": {
   "codemirror_mode": {
    "name": "ipython",
    "version": 3
   },
   "file_extension": ".py",
   "mimetype": "text/x-python",
   "name": "python",
   "nbconvert_exporter": "python",
   "pygments_lexer": "ipython3",
   "version": "3.9.7"
  }
 },
 "nbformat": 4,
 "nbformat_minor": 5
}
